{
  "nbformat": 4,
  "nbformat_minor": 0,
  "metadata": {
    "colab": {
      "provenance": [],
      "machine_shape": "hm",
      "authorship_tag": "ABX9TyN70yPsVYGTpmFLJcY7Ndv2",
      "include_colab_link": true
    },
    "kernelspec": {
      "name": "python3",
      "display_name": "Python 3"
    },
    "language_info": {
      "name": "python"
    },
    "gpuClass": "premium",
    "accelerator": "GPU"
  },
  "cells": [
    {
      "cell_type": "markdown",
      "metadata": {
        "id": "view-in-github",
        "colab_type": "text"
      },
      "source": [
        "<a href=\"https://colab.research.google.com/github/rodeo9000/Traffic-Sign-AI/blob/main/TSRNN.ipynb\" target=\"_parent\"><img src=\"https://colab.research.google.com/assets/colab-badge.svg\" alt=\"Open In Colab\"/></a>"
      ]
    },
    {
      "cell_type": "code",
      "source": [
        "from google.colab import drive\n",
        "drive.mount ('/content/drive')\n",
        "\n",
        "import os\n",
        "import cv2 as cv\n",
        "import numpy as np\n",
        "import pandas as pd \n",
        "from PIL import Image\n",
        "import tensorflow as tf\n",
        "import matplotlib.pyplot as plt\n",
        "from keras.utils import to_categorical\n",
        "from sklearn.metrics import accuracy_score\n",
        "from keras.models import Sequential, load_model\n",
        "from sklearn.model_selection import train_test_split\n",
        "from keras.layers import Conv2D, MaxPool2D, Dense, Flatten, Dropout"
      ],
      "metadata": {
        "colab": {
          "base_uri": "https://localhost:8080/"
        },
        "id": "EbueG_m0fDPe",
        "outputId": "8d7a593d-cd22-496a-8d8c-2471bb5cce22"
      },
      "execution_count": null,
      "outputs": [
        {
          "output_type": "stream",
          "name": "stdout",
          "text": [
            "Mounted at /content/drive\n"
          ]
        }
      ]
    },
    {
      "cell_type": "code",
      "source": [
        "gpu_info = !nvidia-smi\n",
        "gpu_info = '\\n'.join(gpu_info)\n",
        "if gpu_info.find('failed') >= 0:\n",
        "  print('Not connected to a GPU')\n",
        "else:\n",
        "  print(gpu_info)"
      ],
      "metadata": {
        "colab": {
          "base_uri": "https://localhost:8080/"
        },
        "id": "apZpuJ3xVjlo",
        "outputId": "3b99c8ac-ed7a-43d2-d512-7329d046a496"
      },
      "execution_count": null,
      "outputs": [
        {
          "output_type": "stream",
          "name": "stdout",
          "text": [
            "Sun Jan 29 21:57:58 2023       \n",
            "+-----------------------------------------------------------------------------+\n",
            "| NVIDIA-SMI 510.47.03    Driver Version: 510.47.03    CUDA Version: 11.6     |\n",
            "|-------------------------------+----------------------+----------------------+\n",
            "| GPU  Name        Persistence-M| Bus-Id        Disp.A | Volatile Uncorr. ECC |\n",
            "| Fan  Temp  Perf  Pwr:Usage/Cap|         Memory-Usage | GPU-Util  Compute M. |\n",
            "|                               |                      |               MIG M. |\n",
            "|===============================+======================+======================|\n",
            "|   0  NVIDIA A100-SXM...  Off  | 00000000:00:04.0 Off |                    0 |\n",
            "| N/A   33C    P0    50W / 400W |      0MiB / 40960MiB |      0%      Default |\n",
            "|                               |                      |             Disabled |\n",
            "+-------------------------------+----------------------+----------------------+\n",
            "                                                                               \n",
            "+-----------------------------------------------------------------------------+\n",
            "| Processes:                                                                  |\n",
            "|  GPU   GI   CI        PID   Type   Process name                  GPU Memory |\n",
            "|        ID   ID                                                   Usage      |\n",
            "|=============================================================================|\n",
            "|  No running processes found                                                 |\n",
            "+-----------------------------------------------------------------------------+\n"
          ]
        }
      ]
    },
    {
      "cell_type": "code",
      "source": [
        "#Get data\n",
        "path = os.getcwd()\n",
        "print (path)\n",
        "\n",
        "data = '/content/drive/My Drive/Colab Notebooks/traffic sign classification/Data'\n",
        "if os.path.exists(data) == True:\n",
        "  print (\"Data found\")\n",
        "else:\n",
        "  print (\"Error: Data not found\")"
      ],
      "metadata": {
        "id": "qb6mXyg-CEjN",
        "colab": {
          "base_uri": "https://localhost:8080/"
        },
        "outputId": "fda22b41-cf8b-4328-8806-194ab63b6940"
      },
      "execution_count": null,
      "outputs": [
        {
          "output_type": "stream",
          "name": "stdout",
          "text": [
            "/content\n",
            "Data found\n"
          ]
        }
      ]
    },
    {
      "cell_type": "code",
      "source": [
        "#Unzip Compressed Data\n",
        "!unzip '/content/drive/My Drive/Colab Notebooks/traffic sign classification/Data/DataTrain.zip' > /dev/null\n",
        "!unzip '/content/drive/My Drive/Colab Notebooks/traffic sign classification/Data/DataTest.zip' > /dev/null"
      ],
      "metadata": {
        "id": "1PQQlF33OFPV"
      },
      "execution_count": null,
      "outputs": []
    },
    {
      "cell_type": "code",
      "source": [
        "dataset = []\n",
        "names = []\n",
        "types = 43\n",
        "\n",
        "#Retrieving and preprocess the images\n",
        "for i in range(types):\n",
        "  path = os.getcwd()\n",
        "  path = os.path.join(path,'Train',str(i))\n",
        "  images = os.listdir(path)\n",
        "  imagenum = 0\n",
        "\n",
        "  for j in images:\n",
        "    image = Image.open(path + '/'+ j)\n",
        "    image = image.resize((40,40))\n",
        "    image = np.array(image)\n",
        "    dataset.append(image)\n",
        "    names.append(i)\n",
        "    imagenum += 1\n",
        "\n",
        "#Save Data and Labels\n",
        "np.save('/content/drive/My Drive/Colab Notebooks/traffic sign classification/Processed/dataset',dataset)\n",
        "np.save('/content/drive/My Drive/Colab Notebooks/traffic sign classification/Processed/names',names)"
      ],
      "metadata": {
        "id": "p0hK7CbRCH-5"
      },
      "execution_count": null,
      "outputs": []
    },
    {
      "cell_type": "code",
      "source": [
        "#Load Data\n",
        "dataset = np.load('/content/drive/My Drive/Colab Notebooks/traffic sign classification/Processed/dataset.npy')\n",
        "names = np.load('/content/drive/My Drive/Colab Notebooks/traffic sign classification/Processed/names.npy')\n",
        "\n",
        "if dataset.shape[0] == names.shape[0]:\n",
        "    print ('Successful')\n",
        "else:\n",
        "    print ('Error with data processing')"
      ],
      "metadata": {
        "colab": {
          "base_uri": "https://localhost:8080/"
        },
        "id": "Q-APPOA_CV0s",
        "outputId": "52131358-d035-4e21-a2e3-21384014761b"
      },
      "execution_count": null,
      "outputs": [
        {
          "output_type": "stream",
          "name": "stdout",
          "text": [
            "Successful\n"
          ]
        }
      ]
    },
    {
      "cell_type": "code",
      "source": [
        "#85% training, 15% testing\n",
        "Xtr, Xts, Ytr, Yts = train_test_split(dataset, names, test_size = 0.15, random_state = 64)\n",
        "\n",
        "#One-hot encode into vectors\n",
        "Ytr = to_categorical(Ytr, 43)\n",
        "Yts = to_categorical(Yts, 43)\n",
        "\n",
        "#Convolutional Neural Network\n",
        "model = Sequential()\n",
        "model.add(Conv2D(filters = 36, kernel_size = (5,5), activation = 'relu', input_shape = Xtr.shape[1:]))\n",
        "model.add(Conv2D(filters = 36, kernel_size = (5,5), activation = 'relu'))\n",
        "model.add(MaxPool2D(pool_size = (2, 2)))\n",
        "model.add(Dropout(rate = 0.2))\n",
        "model.add(Conv2D(filters = 72, kernel_size = (3, 3), activation = 'relu'))\n",
        "model.add(Conv2D(filters = 72, kernel_size = (3, 3), activation = 'relu'))\n",
        "model.add(MaxPool2D(pool_size = (2, 2)))\n",
        "model.add(Dropout(rate = 0.2))\n",
        "model.add(Flatten())\n",
        "model.add(Dense(256, activation = 'relu'))\n",
        "model.add(Dropout(rate = 0.45))\n",
        "model.add(Dense(43, activation = 'softmax'))"
      ],
      "metadata": {
        "id": "FScQdevWQ-cR"
      },
      "execution_count": null,
      "outputs": []
    },
    {
      "cell_type": "code",
      "source": [
        "#Compile Model\n",
        "model.compile(loss = 'categorical_crossentropy', optimizer = 'adam', metrics = ['accuracy'])\n",
        "model.summary()"
      ],
      "metadata": {
        "colab": {
          "base_uri": "https://localhost:8080/"
        },
        "id": "-DxMJRijRUBC",
        "outputId": "81b15fcb-4283-413a-94aa-e229d434e0be"
      },
      "execution_count": null,
      "outputs": [
        {
          "output_type": "stream",
          "name": "stdout",
          "text": [
            "Model: \"sequential\"\n",
            "_________________________________________________________________\n",
            " Layer (type)                Output Shape              Param #   \n",
            "=================================================================\n",
            " conv2d (Conv2D)             (None, 36, 36, 36)        2736      \n",
            "                                                                 \n",
            " conv2d_1 (Conv2D)           (None, 32, 32, 36)        32436     \n",
            "                                                                 \n",
            " max_pooling2d (MaxPooling2D  (None, 16, 16, 36)       0         \n",
            " )                                                               \n",
            "                                                                 \n",
            " dropout (Dropout)           (None, 16, 16, 36)        0         \n",
            "                                                                 \n",
            " conv2d_2 (Conv2D)           (None, 14, 14, 72)        23400     \n",
            "                                                                 \n",
            " conv2d_3 (Conv2D)           (None, 12, 12, 72)        46728     \n",
            "                                                                 \n",
            " max_pooling2d_1 (MaxPooling  (None, 6, 6, 72)         0         \n",
            " 2D)                                                             \n",
            "                                                                 \n",
            " dropout_1 (Dropout)         (None, 6, 6, 72)          0         \n",
            "                                                                 \n",
            " flatten (Flatten)           (None, 2592)              0         \n",
            "                                                                 \n",
            " dense (Dense)               (None, 256)               663808    \n",
            "                                                                 \n",
            " dropout_2 (Dropout)         (None, 256)               0         \n",
            "                                                                 \n",
            " dense_1 (Dense)             (None, 43)                11051     \n",
            "                                                                 \n",
            "=================================================================\n",
            "Total params: 780,159\n",
            "Trainable params: 780,159\n",
            "Non-trainable params: 0\n",
            "_________________________________________________________________\n"
          ]
        }
      ]
    },
    {
      "cell_type": "code",
      "source": [
        "#Training the model\n",
        "model.fit(Xtr, Ytr, batch_size = 128, epochs = 12, validation_data = (Xts, Yts))"
      ],
      "metadata": {
        "colab": {
          "base_uri": "https://localhost:8080/"
        },
        "id": "a27ubW1uWeXp",
        "outputId": "d04c2742-639c-4d8f-e135-54da1a744682"
      },
      "execution_count": null,
      "outputs": [
        {
          "output_type": "stream",
          "name": "stdout",
          "text": [
            "Epoch 1/12\n",
            "261/261 [==============================] - 12s 9ms/step - loss: 2.4840 - accuracy: 0.4952 - val_loss: 0.5705 - val_accuracy: 0.8631\n",
            "Epoch 2/12\n",
            "261/261 [==============================] - 2s 7ms/step - loss: 0.5756 - accuracy: 0.8358 - val_loss: 0.1811 - val_accuracy: 0.9577\n",
            "Epoch 3/12\n",
            "261/261 [==============================] - 2s 7ms/step - loss: 0.3260 - accuracy: 0.9059 - val_loss: 0.1189 - val_accuracy: 0.9723\n",
            "Epoch 4/12\n",
            "261/261 [==============================] - 2s 7ms/step - loss: 0.2348 - accuracy: 0.9315 - val_loss: 0.0807 - val_accuracy: 0.9779\n",
            "Epoch 5/12\n",
            "261/261 [==============================] - 2s 7ms/step - loss: 0.1817 - accuracy: 0.9460 - val_loss: 0.0802 - val_accuracy: 0.9781\n",
            "Epoch 6/12\n",
            "261/261 [==============================] - 2s 7ms/step - loss: 0.1806 - accuracy: 0.9481 - val_loss: 0.0649 - val_accuracy: 0.9835\n",
            "Epoch 7/12\n",
            "261/261 [==============================] - 2s 7ms/step - loss: 0.1382 - accuracy: 0.9599 - val_loss: 0.0509 - val_accuracy: 0.9874\n",
            "Epoch 8/12\n",
            "261/261 [==============================] - 2s 7ms/step - loss: 0.1183 - accuracy: 0.9651 - val_loss: 0.0460 - val_accuracy: 0.9881\n",
            "Epoch 9/12\n",
            "261/261 [==============================] - 2s 7ms/step - loss: 0.1204 - accuracy: 0.9640 - val_loss: 0.0404 - val_accuracy: 0.9896\n",
            "Epoch 10/12\n",
            "261/261 [==============================] - 2s 7ms/step - loss: 0.1107 - accuracy: 0.9669 - val_loss: 0.0409 - val_accuracy: 0.9889\n",
            "Epoch 11/12\n",
            "261/261 [==============================] - 2s 7ms/step - loss: 0.1041 - accuracy: 0.9690 - val_loss: 0.0672 - val_accuracy: 0.9832\n",
            "Epoch 12/12\n",
            "261/261 [==============================] - 2s 7ms/step - loss: 0.1107 - accuracy: 0.9678 - val_loss: 0.0390 - val_accuracy: 0.9881\n"
          ]
        },
        {
          "output_type": "execute_result",
          "data": {
            "text/plain": [
              "<keras.callbacks.History at 0x7f43daadef10>"
            ]
          },
          "metadata": {},
          "execution_count": 16
        }
      ]
    },
    {
      "cell_type": "code",
      "source": [
        "#Save the model to drive\n",
        "model.save('/content/drive/My Drive/Colab Notebooks/traffic sign classification/Trained Model/CNN.h5')"
      ],
      "metadata": {
        "id": "JcxTEwmQfhLj"
      },
      "execution_count": null,
      "outputs": []
    },
    {
      "cell_type": "code",
      "source": [
        "#Load model\n",
        "model = load_model('/content/drive/My Drive/Colab Notebooks/traffic sign classification/Trained Model/CNN.h5')"
      ],
      "metadata": {
        "id": "2Js5niytIgxq"
      },
      "execution_count": null,
      "outputs": []
    },
    {
      "cell_type": "code",
      "source": [
        "#Testing\n",
        "Yts = pd.read_csv('/content/drive/My Drive/Colab Notebooks/traffic sign classification/Data/Test.csv')\n",
        "names = Yts[\"ClassId\"].values\n",
        "images = Yts[\"Path\"].values\n",
        "dataset = []\n",
        "\n",
        "for image in images:\n",
        "    image = Image.open(image)\n",
        "    image = image.resize((40,40))\n",
        "    dataset.append(np.array(image))\n",
        "\n",
        "Xts = np.array(dataset)\n",
        "prediction = model.predict(Xts) \n",
        "classes = np.argmax(prediction, axis=1)"
      ],
      "metadata": {
        "colab": {
          "base_uri": "https://localhost:8080/"
        },
        "id": "y8qjIvLsIyz0",
        "outputId": "a7a23d7d-1b84-490e-ba9a-272b2ba82423"
      },
      "execution_count": null,
      "outputs": [
        {
          "output_type": "stream",
          "name": "stdout",
          "text": [
            "395/395 [==============================] - 1s 2ms/step\n"
          ]
        }
      ]
    },
    {
      "cell_type": "code",
      "source": [
        "print (accuracy_score(names, classes))"
      ],
      "metadata": {
        "colab": {
          "base_uri": "https://localhost:8080/"
        },
        "id": "j_92oJTTO0gI",
        "outputId": "01688c4a-ac9b-4356-d968-11bcfa89fc1f"
      },
      "execution_count": null,
      "outputs": [
        {
          "output_type": "stream",
          "name": "stdout",
          "text": [
            "0.9650039588281869\n"
          ]
        }
      ]
    }
  ]
}